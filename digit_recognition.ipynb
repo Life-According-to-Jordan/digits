{
 "cells": [
  {
   "cell_type": "code",
   "execution_count": 2,
   "metadata": {
    "collapsed": true
   },
   "outputs": [],
   "source": [
    "from sklearn import tree\n",
    "from sklearn.svm import SVC\n",
    "from sklearn.linear_model import Perceptron\n",
    "from sklearn.neighbors import KNeighborsClassifier\n",
    "from sklearn.metrics import accuracy_score\n",
    "from sklearn.naive_bayes import GaussianNB\n",
    "from sklearn import datasets\n",
    "import numpy as np\n",
    "from sklearn import datasets"
   ]
  },
  {
   "cell_type": "code",
   "execution_count": 3,
   "metadata": {
    "collapsed": true
   },
   "outputs": [],
   "source": [
    "#load data\n",
    "digits=datasets.load_digits()"
   ]
  },
  {
   "cell_type": "code",
   "execution_count": 4,
   "metadata": {
    "collapsed": true
   },
   "outputs": [],
   "source": [
    "digits.images=digits.images.reshape(digits.images.shape[0],digits.images.shape[1]*digits.images.shape[2])"
   ]
  },
  {
   "cell_type": "code",
   "execution_count": 5,
   "metadata": {},
   "outputs": [
    {
     "name": "stdout",
     "output_type": "stream",
     "text": [
      "(1797, 64)\n"
     ]
    }
   ],
   "source": [
    "#matrix dimensions\n",
    "print(digits.images.shape)"
   ]
  },
  {
   "cell_type": "code",
   "execution_count": 6,
   "metadata": {},
   "outputs": [
    {
     "name": "stdout",
     "output_type": "stream",
     "text": [
      "[[  0.   0.   5. ...,   0.   0.   0.]\n",
      " [  0.   0.   0. ...,  10.   0.   0.]\n",
      " [  0.   0.   0. ...,  16.   9.   0.]\n",
      " ..., \n",
      " [  0.   0.   1. ...,   6.   0.   0.]\n",
      " [  0.   0.   2. ...,  12.   0.   0.]\n",
      " [  0.   0.  10. ...,  12.   1.   0.]]\n",
      "[0 1 2 ..., 8 9 8]\n"
     ]
    }
   ],
   "source": [
    "#printing features and labels \n",
    "print(digits.images)\n",
    "print(digits.target)"
   ]
  },
  {
   "cell_type": "code",
   "execution_count": 7,
   "metadata": {},
   "outputs": [
    {
     "name": "stdout",
     "output_type": "stream",
     "text": [
      "(1797, 64)\n",
      "(1797,)\n"
     ]
    }
   ],
   "source": [
    "#data dimensions\n",
    "print(digits.images.shape)\n",
    "print(digits.target.shape)"
   ]
  },
  {
   "cell_type": "code",
   "execution_count": 8,
   "metadata": {
    "collapsed": true
   },
   "outputs": [],
   "source": [
    "#now we have data, we need to split this whole chunk of data in to training and testing data set\n",
    "from sklearn.model_selection import train_test_split\n",
    "x_train,x_test,y_train,y_test=train_test_split(digits.images,digits.target,test_size=0.25)"
   ]
  },
  {
   "cell_type": "code",
   "execution_count": 9,
   "metadata": {
    "collapsed": true
   },
   "outputs": [],
   "source": [
    "#importing classifier\n",
    "from sklearn.neighbors import KNeighborsClassifier\n",
    "clf=KNeighborsClassifier(n_neighbors=3).fit(x_train,y_train)"
   ]
  },
  {
   "cell_type": "code",
   "execution_count": 10,
   "metadata": {},
   "outputs": [
    {
     "name": "stdout",
     "output_type": "stream",
     "text": [
      "accuracy found is\n",
      "0.995555555556\n"
     ]
    }
   ],
   "source": [
    "#testing the model\n",
    "from sklearn.metrics import accuracy_score\n",
    "print(\"accuracy found is\")\n",
    "print(accuracy_score(y_test,clf.predict(x_test)))"
   ]
  },
  {
   "cell_type": "code",
   "execution_count": 11,
   "metadata": {},
   "outputs": [
    {
     "name": "stderr",
     "output_type": "stream",
     "text": [
      "/anaconda3/lib/python3.6/site-packages/sklearn/linear_model/stochastic_gradient.py:128: FutureWarning: max_iter and tol parameters have been added in <class 'sklearn.linear_model.perceptron.Perceptron'> in 0.19. If both are left unset, they default to max_iter=5 and tol=None. If tol is not None, max_iter defaults to max_iter=1000. From 0.21, default max_iter will be 1000, and default tol will be 1e-3.\n",
      "  \"and default tol will be 1e-3.\" % type(self), FutureWarning)\n"
     ]
    },
    {
     "data": {
      "text/plain": [
       "GaussianNB(priors=None)"
      ]
     },
     "execution_count": 11,
     "metadata": {},
     "output_type": "execute_result"
    }
   ],
   "source": [
    "#adding classifiers \n",
    "clf_KNN=KNeighborsClassifier()\n",
    "clf_svm = SVC()\n",
    "clf_perceptron = Perceptron()\n",
    "clf_tree = tree.DecisionTreeClassifier()\n",
    "clf_gnb = GaussianNB()\n",
    "\n",
    "#train classifiers\n",
    "clf_tree.fit(x_train, y_train)\n",
    "clf_svm.fit(x_train, y_train)\n",
    "clf_perceptron.fit(x_train, y_train)\n",
    "clf_KNN.fit(x_train, y_train)\n",
    "clf_gnb.fit(x_train, y_train)"
   ]
  },
  {
   "cell_type": "code",
   "execution_count": 14,
   "metadata": {},
   "outputs": [
    {
     "name": "stdout",
     "output_type": "stream",
     "text": [
      "Accuracy for DecisionTree: 83.33333333333334\n",
      "Accuracy for SVM: 38.0\n",
      "Accuracy for perceptron: 86.66666666666667\n",
      "Accuracy for KNN: 99.33333333333333\n",
      "Accuracy for gnb: 79.77777777777779\n",
      "Best classifier is KNN\n",
      "Worst classifier is SVM\n"
     ]
    }
   ],
   "source": [
    "# Testing using the same data\n",
    "pred_tree = clf_tree.predict(x_test)\n",
    "acc_tree = accuracy_score(y_test, pred_tree) * 100\n",
    "print('Accuracy for DecisionTree: {}'.format(acc_tree))\n",
    "\n",
    "pred_svm = clf_svm.predict(x_test)\n",
    "acc_svm = accuracy_score(y_test, pred_svm) * 100\n",
    "print('Accuracy for SVM: {}'.format(acc_svm))\n",
    "\n",
    "pred_per = clf_perceptron.predict(x_test)\n",
    "acc_per = accuracy_score(y_test, pred_per) * 100\n",
    "print('Accuracy for perceptron: {}'.format(acc_per))\n",
    "\n",
    "pred_KNN = clf_KNN.predict(x_test)\n",
    "acc_KNN = accuracy_score(y_test, pred_KNN) * 100\n",
    "print('Accuracy for KNN: {}'.format(acc_KNN))\n",
    "\n",
    "pred_gnb = clf_gnb.predict(x_test)\n",
    "acc_gnb = accuracy_score(y_test, pred_gnb) * 100\n",
    "print('Accuracy for gnb: {}'.format(acc_gnb))\n",
    "\n",
    "# The best classifier from svm, per, KNN\n",
    "index = np.argmax([acc_tree, acc_svm, acc_per, acc_KNN, acc_gnb])\n",
    "index2 = np.argmin([acc_tree, acc_svm, acc_per, acc_KNN, acc_gnb])\n",
    "\n",
    "classifiers = {0: 'Tree', 1: 'SVM', 2: 'Perceptron', 3: 'KNN', 4: 'gnb'}\n",
    "print('Best classifier is {}'.format(classifiers[index]))\n",
    "print('Worst classifier is {}'.format(classifiers[index2]))"
   ]
  },
  {
   "cell_type": "code",
   "execution_count": 23,
   "metadata": {
    "collapsed": true
   },
   "outputs": [],
   "source": [
    "#Kfold cross validation\n",
    "from sklearn.model_selection import KFold"
   ]
  },
  {
   "cell_type": "code",
   "execution_count": 27,
   "metadata": {},
   "outputs": [
    {
     "name": "stdout",
     "output_type": "stream",
     "text": [
      "[1 2 3 4 5 6 7] [0]\n",
      "[0 2 3 4 5 6 7] [1]\n",
      "[0 1 2 4 5 6 7] [3]\n",
      "[0 1 2 3 4 6 7] [5]\n",
      "[0 1 2 3 4 5 7] [6]\n",
      "[0 1 3 4 5 6 7] [2]\n",
      "[0 1 2 3 4 5 6] [7]\n",
      "[0 1 2 3 5 6 7] [4]\n"
     ]
    }
   ],
   "source": [
    "kf = KFold(n_splits=8, shuffle=True)\n",
    "\n",
    "X = [\"a\", \"b\", \"c\", \"d\", \"e\", \"f\", \"g\", \"h\"]\n",
    "for train, test in kf.split(X):\n",
    "    print(\"%s %s\" % (train, test))"
   ]
  }
 ],
 "metadata": {
  "kernelspec": {
   "display_name": "Python 3",
   "language": "python",
   "name": "python3"
  },
  "language_info": {
   "codemirror_mode": {
    "name": "ipython",
    "version": 3
   },
   "file_extension": ".py",
   "mimetype": "text/x-python",
   "name": "python",
   "nbconvert_exporter": "python",
   "pygments_lexer": "ipython3",
   "version": "3.6.3"
  }
 },
 "nbformat": 4,
 "nbformat_minor": 2
}
